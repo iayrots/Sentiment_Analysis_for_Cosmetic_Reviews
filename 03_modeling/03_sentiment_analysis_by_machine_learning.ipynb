{
 "cells": [
  {
   "cell_type": "markdown",
   "metadata": {},
   "source": [
    "## 기계학습을 이용한 감정 분석\n",
    "- TDM 만들기\n",
    "- TDM으로 별점 예측\n",
    "    - 선형 모형의 일종인 엘라스틱넷 모형 이용\n",
    "- 긍정/부정 예측\n",
    "    - 로지스틱 회귀분석 모형 이용\n",
    "    - 랜덤포레스트 분류기 이용"
   ]
  },
  {
   "cell_type": "code",
   "execution_count": 33,
   "metadata": {},
   "outputs": [],
   "source": [
    "import numpy as np\n",
    "import pandas as pd"
   ]
  },
  {
   "cell_type": "code",
   "execution_count": 2,
   "metadata": {},
   "outputs": [],
   "source": [
    "cosmetic = pd.read_csv('../dataset/cosmetics_reviews_final.csv')"
   ]
  },
  {
   "cell_type": "code",
   "execution_count": 3,
   "metadata": {},
   "outputs": [
    {
     "data": {
      "text/html": [
       "<div>\n",
       "<style scoped>\n",
       "    .dataframe tbody tr th:only-of-type {\n",
       "        vertical-align: middle;\n",
       "    }\n",
       "\n",
       "    .dataframe tbody tr th {\n",
       "        vertical-align: top;\n",
       "    }\n",
       "\n",
       "    .dataframe thead th {\n",
       "        text-align: right;\n",
       "    }\n",
       "</style>\n",
       "<table border=\"1\" class=\"dataframe\">\n",
       "  <thead>\n",
       "    <tr style=\"text-align: right;\">\n",
       "      <th></th>\n",
       "      <th>product</th>\n",
       "      <th>brand_name</th>\n",
       "      <th>img_link</th>\n",
       "      <th>point</th>\n",
       "      <th>review</th>\n",
       "    </tr>\n",
       "  </thead>\n",
       "  <tbody>\n",
       "    <tr>\n",
       "      <th>21217</th>\n",
       "      <td>마린 매직 클렌징 워터 리프레쉬 포뮬라</td>\n",
       "      <td>벨비죠</td>\n",
       "      <td>http://d9vmi5fxk1gsw.cloudfront.net/home/glowm...</td>\n",
       "      <td>4.67</td>\n",
       "      <td>클렌징워터인데 물묻혀서 비비면 클렌징폼이 돼서 좋다  거품이 많아서 좋ㄷ음</td>\n",
       "    </tr>\n",
       "    <tr>\n",
       "      <th>21218</th>\n",
       "      <td>마린 스파 바이탈 마스크 리프팅 리뉴얼</td>\n",
       "      <td>벨비죠</td>\n",
       "      <td>http://d9vmi5fxk1gsw.cloudfront.net/home/glowm...</td>\n",
       "      <td>3.52</td>\n",
       "      <td>가격도 싸고 색도 정말 예뻐서 좋은데 워터틴트라서 입술이 좀 건조해요</td>\n",
       "    </tr>\n",
       "    <tr>\n",
       "      <th>21219</th>\n",
       "      <td>마린 UV화이트닝 썬크림 SPF50+ PA+++</td>\n",
       "      <td>벨비죠</td>\n",
       "      <td>http://d9vmi5fxk1gsw.cloudfront.net/home/glowm...</td>\n",
       "      <td>5.00</td>\n",
       "      <td>촉촉하고 이거 베이스로 하면 화장 잘먹는거같아용    쉬머링효과도있고 너무너무 만족...</td>\n",
       "    </tr>\n",
       "    <tr>\n",
       "      <th>21220</th>\n",
       "      <td>멀티액션 콜라겐 BB 크림 SPF30 / PA++</td>\n",
       "      <td>벨비죠</td>\n",
       "      <td>http://d9vmi5fxk1gsw.cloudfront.net/home/glowm...</td>\n",
       "      <td>2.75</td>\n",
       "      <td>엥 이거 평이 다들 왜이렇게 안좋아요 제 인생템인데   어머니께서 좋은거 바르라고 ...</td>\n",
       "    </tr>\n",
       "    <tr>\n",
       "      <th>21221</th>\n",
       "      <td>자스민 그린티 토너</td>\n",
       "      <td>100% 퓨어</td>\n",
       "      <td>http://d9vmi5fxk1gsw.cloudfront.net/home/glowm...</td>\n",
       "      <td>3.20</td>\n",
       "      <td>중딩때 맨 날 들고다니면서 발랐던 거      나에겐 나름 추억의 애정템임  사진에...</td>\n",
       "    </tr>\n",
       "  </tbody>\n",
       "</table>\n",
       "</div>"
      ],
      "text/plain": [
       "                           product brand_name  \\\n",
       "21217        마린 매직 클렌징 워터 리프레쉬 포뮬라        벨비죠   \n",
       "21218        마린 스파 바이탈 마스크 리프팅 리뉴얼        벨비죠   \n",
       "21219   마린 UV화이트닝 썬크림 SPF50+ PA+++        벨비죠   \n",
       "21220  멀티액션 콜라겐 BB 크림 SPF30 / PA++        벨비죠   \n",
       "21221                   자스민 그린티 토너    100% 퓨어   \n",
       "\n",
       "                                                img_link  point  \\\n",
       "21217  http://d9vmi5fxk1gsw.cloudfront.net/home/glowm...   4.67   \n",
       "21218  http://d9vmi5fxk1gsw.cloudfront.net/home/glowm...   3.52   \n",
       "21219  http://d9vmi5fxk1gsw.cloudfront.net/home/glowm...   5.00   \n",
       "21220  http://d9vmi5fxk1gsw.cloudfront.net/home/glowm...   2.75   \n",
       "21221  http://d9vmi5fxk1gsw.cloudfront.net/home/glowm...   3.20   \n",
       "\n",
       "                                                  review  \n",
       "21217          클렌징워터인데 물묻혀서 비비면 클렌징폼이 돼서 좋다  거품이 많아서 좋ㄷ음  \n",
       "21218             가격도 싸고 색도 정말 예뻐서 좋은데 워터틴트라서 입술이 좀 건조해요  \n",
       "21219  촉촉하고 이거 베이스로 하면 화장 잘먹는거같아용    쉬머링효과도있고 너무너무 만족...  \n",
       "21220  엥 이거 평이 다들 왜이렇게 안좋아요 제 인생템인데   어머니께서 좋은거 바르라고 ...  \n",
       "21221  중딩때 맨 날 들고다니면서 발랐던 거      나에겐 나름 추억의 애정템임  사진에...  "
      ]
     },
     "execution_count": 3,
     "metadata": {},
     "output_type": "execute_result"
    }
   ],
   "source": [
    "cosmetic.tail()"
   ]
  },
  {
   "cell_type": "markdown",
   "metadata": {},
   "source": [
    "### TDM 만들기"
   ]
  },
  {
   "cell_type": "code",
   "execution_count": 7,
   "metadata": {},
   "outputs": [],
   "source": [
    "from konlpy.tag import Twitter\n",
    "tag = Twitter()"
   ]
  },
  {
   "cell_type": "code",
   "execution_count": 8,
   "metadata": {},
   "outputs": [],
   "source": [
    "from sklearn.feature_extraction.text import CountVectorizer"
   ]
  },
  {
   "cell_type": "code",
   "execution_count": 9,
   "metadata": {},
   "outputs": [],
   "source": [
    "def kor_noun(text):\n",
    "    words = []\n",
    "    for w in tag.nouns(text):\n",
    "        if len(w) > 1:\n",
    "            words.append(w)\n",
    "    return words"
   ]
  },
  {
   "cell_type": "code",
   "execution_count": 10,
   "metadata": {},
   "outputs": [],
   "source": [
    "cv = CountVectorizer(tokenizer=kor_noun, max_features=1000)"
   ]
  },
  {
   "cell_type": "code",
   "execution_count": 11,
   "metadata": {},
   "outputs": [],
   "source": [
    "tdm = cv.fit_transform(cosmetic['review'])"
   ]
  },
  {
   "cell_type": "markdown",
   "metadata": {},
   "source": [
    "##### - 학습용 데이터와 테스트용 데이터 분할"
   ]
  },
  {
   "cell_type": "code",
   "execution_count": 15,
   "metadata": {},
   "outputs": [],
   "source": [
    "from sklearn.model_selection import train_test_split"
   ]
  },
  {
   "cell_type": "code",
   "execution_count": 16,
   "metadata": {},
   "outputs": [],
   "source": [
    "X_train, X_test, y_train, y_test = train_test_split(tdm, cosmetic['point'], test_size=.2, random_state =0)"
   ]
  },
  {
   "cell_type": "markdown",
   "metadata": {},
   "source": [
    "### TDM으로 별점 예측\n",
    "- 선형 모형의 일종인 엘라스틱넷 모형 이용"
   ]
  },
  {
   "cell_type": "code",
   "execution_count": 17,
   "metadata": {},
   "outputs": [],
   "source": [
    "from sklearn.linear_model import ElasticNetCV"
   ]
  },
  {
   "cell_type": "code",
   "execution_count": 18,
   "metadata": {},
   "outputs": [],
   "source": [
    "model = ElasticNetCV()"
   ]
  },
  {
   "cell_type": "code",
   "execution_count": 19,
   "metadata": {},
   "outputs": [
    {
     "data": {
      "text/plain": [
       "ElasticNetCV(alphas=None, copy_X=True, cv=None, eps=0.001, fit_intercept=True,\n",
       "       l1_ratio=0.5, max_iter=1000, n_alphas=100, n_jobs=1,\n",
       "       normalize=False, positive=False, precompute='auto',\n",
       "       random_state=None, selection='cyclic', tol=0.0001, verbose=0)"
      ]
     },
     "execution_count": 19,
     "metadata": {},
     "output_type": "execute_result"
    }
   ],
   "source": [
    "model.fit(X_train, y_train)"
   ]
  },
  {
   "cell_type": "code",
   "execution_count": 20,
   "metadata": {},
   "outputs": [],
   "source": [
    "y_pred = model.predict(X_test)"
   ]
  },
  {
   "cell_type": "markdown",
   "metadata": {},
   "source": [
    "##### - 평균 오차 제곱"
   ]
  },
  {
   "cell_type": "code",
   "execution_count": 21,
   "metadata": {},
   "outputs": [],
   "source": [
    "from sklearn.metrics import r2_score, mean_squared_error"
   ]
  },
  {
   "cell_type": "code",
   "execution_count": 22,
   "metadata": {},
   "outputs": [
    {
     "data": {
      "text/plain": [
       "0.5053197803671575"
      ]
     },
     "execution_count": 22,
     "metadata": {},
     "output_type": "execute_result"
    }
   ],
   "source": [
    "mean_squared_error(y_test, y_pred)"
   ]
  },
  {
   "cell_type": "code",
   "execution_count": 23,
   "metadata": {},
   "outputs": [
    {
     "data": {
      "text/plain": [
       "0.12073943531234721"
      ]
     },
     "execution_count": 23,
     "metadata": {},
     "output_type": "execute_result"
    }
   ],
   "source": [
    "r2_score(y_test, y_pred)"
   ]
  },
  {
   "cell_type": "markdown",
   "metadata": {},
   "source": [
    "### 긍정/부정 예측"
   ]
  },
  {
   "cell_type": "code",
   "execution_count": 24,
   "metadata": {},
   "outputs": [],
   "source": [
    "%matplotlib inline"
   ]
  },
  {
   "cell_type": "code",
   "execution_count": 25,
   "metadata": {},
   "outputs": [
    {
     "data": {
      "text/plain": [
       "<matplotlib.axes._subplots.AxesSubplot at 0x12a26d208>"
      ]
     },
     "execution_count": 25,
     "metadata": {},
     "output_type": "execute_result"
    },
    {
     "data": {
      "image/png": "[encoded data removed]",
      "text/plain": [
       "<Figure size 432x288 with 1 Axes>"
      ]
     },
     "metadata": {},
     "output_type": "display_data"
    }
   ],
   "source": [
    "cosmetic['point'].hist()"
   ]
  },
  {
   "cell_type": "code",
   "execution_count": 12,
   "metadata": {},
   "outputs": [],
   "source": [
    "high_low = cosmetic['point'] > 3.7"
   ]
  },
  {
   "cell_type": "code",
   "execution_count": 48,
   "metadata": {},
   "outputs": [],
   "source": [
    "from sklearn.model_selection import train_test_split\n",
    "X_train, X_test, y_train, y_test = train_test_split(tdm, high_low, test_size=.2, random_state =0)"
   ]
  },
  {
   "cell_type": "markdown",
   "metadata": {},
   "source": [
    "### 로지스틱 회귀분석 모형 이용"
   ]
  },
  {
   "cell_type": "code",
   "execution_count": 14,
   "metadata": {
    "scrolled": true
   },
   "outputs": [
    {
     "data": {
      "text/plain": [
       "LogisticRegressionCV(Cs=10, class_weight=None, cv=None, dual=False,\n",
       "           fit_intercept=True, intercept_scaling=1.0, max_iter=100,\n",
       "           multi_class='ovr', n_jobs=1, penalty='l2', random_state=None,\n",
       "           refit=True, scoring=None, solver='lbfgs', tol=0.0001, verbose=0)"
      ]
     },
     "execution_count": 14,
     "metadata": {},
     "output_type": "execute_result"
    }
   ],
   "source": [
    "from sklearn.linear_model import LogisticRegressionCV\n",
    "\n",
    "logreg = LogisticRegressionCV()\n",
    "logreg.fit(X_train, y_train)"
   ]
  },
  {
   "cell_type": "code",
   "execution_count": 15,
   "metadata": {},
   "outputs": [],
   "source": [
    "y_pred = logreg.predict(X_test)"
   ]
  },
  {
   "cell_type": "markdown",
   "metadata": {},
   "source": [
    "##### - 정확도 "
   ]
  },
  {
   "cell_type": "code",
   "execution_count": 17,
   "metadata": {},
   "outputs": [
    {
     "data": {
      "text/plain": [
       "0.6287396937573616"
      ]
     },
     "execution_count": 17,
     "metadata": {},
     "output_type": "execute_result"
    }
   ],
   "source": [
    "from sklearn.metrics import accuracy_score\n",
    "accuracy_score(y_test, y_pred)"
   ]
  },
  {
   "cell_type": "code",
   "execution_count": 40,
   "metadata": {},
   "outputs": [
    {
     "name": "stdout",
     "output_type": "stream",
     "text": [
      "             precision    recall  f1-score   support\n",
      "\n",
      "      False       0.63      0.60      0.62      2111\n",
      "       True       0.63      0.65      0.64      2134\n",
      "\n",
      "avg / total       0.63      0.63      0.63      4245\n",
      "\n"
     ]
    }
   ],
   "source": [
    "from sklearn.metrics import classification_report\n",
    "print(classification_report(y_test, y_pred))"
   ]
  },
  {
   "cell_type": "markdown",
   "metadata": {},
   "source": [
    "##### - 단어별 긍/부정 확인"
   ]
  },
  {
   "cell_type": "code",
   "execution_count": 18,
   "metadata": {},
   "outputs": [],
   "source": [
    "words = cv.get_feature_names()\n",
    "sent_dict = sorted(zip(logreg.coef_[0], words))"
   ]
  },
  {
   "cell_type": "code",
   "execution_count": 23,
   "metadata": {},
   "outputs": [
    {
     "data": {
      "text/plain": [
       "1000"
      ]
     },
     "execution_count": 23,
     "metadata": {},
     "output_type": "execute_result"
    }
   ],
   "source": [
    "len(sent_dict)"
   ]
  },
  {
   "cell_type": "code",
   "execution_count": 21,
   "metadata": {
    "scrolled": false
   },
   "outputs": [
    {
     "data": {
      "text/plain": [
       "[(-1.0317885978555437, '최악'),\n",
       " (-0.6854860808192937, '별로'),\n",
       " (-0.5858980001185569, '그닥'),\n",
       " (-0.5031729752101852, '쓰레기'),\n",
       " (-0.4923973974638098, '커버'),\n",
       " (-0.4779322366104383, '대충'),\n",
       " (-0.47300831554732553, '차라리'),\n",
       " (-0.47003853952640084, '사지'),\n",
       " (-0.4682470200517283, '그냥'),\n",
       " (-0.4152030914107307, '다행'),\n",
       " (-0.3833892342985934, '심해'),\n",
       " (-0.3766287431070354, '세일'),\n",
       " (-0.37495703857963225, '애매'),\n",
       " (-0.3724377289868339, '그때'),\n",
       " (-0.37015205256468753, '보지'),\n",
       " (-0.367392561153594, '수정'),\n",
       " (-0.3586819605731412, '별루'),\n",
       " (-0.35512782899395834, '다크닝'),\n",
       " (-0.3536090483994127, '뭉치'),\n",
       " (-0.3462576299485702, '글쎄')]"
      ]
     },
     "execution_count": 21,
     "metadata": {},
     "output_type": "execute_result"
    }
   ],
   "source": [
    "# 회귀계수가 가장 작은 10단어\n",
    "sent_dict[:20]   # 부정"
   ]
  },
  {
   "cell_type": "code",
   "execution_count": 22,
   "metadata": {},
   "outputs": [
    {
     "data": {
      "text/plain": [
       "[(0.31513568268686193, '여름'),\n",
       " (0.3230147875953818, '안개'),\n",
       " (0.3297791935020135, '예정'),\n",
       " (0.33135386962920305, '향수'),\n",
       " (0.3361746454000259, '쫀쫀'),\n",
       " (0.3381478267709277, '무향'),\n",
       " (0.33965937086876385, '머릿결'),\n",
       " (0.3398269327651225, '메르'),\n",
       " (0.34527048770911256, '다만'),\n",
       " (0.3493656375683996, '인생'),\n",
       " (0.37234704439169053, '두피'),\n",
       " (0.378585763738899, '진정'),\n",
       " (0.38129168185030116, '일본'),\n",
       " (0.38821164393956087, '부들부들'),\n",
       " (0.4105669288415923, '잔향'),\n",
       " (0.42542645111329747, '지도'),\n",
       " (0.4325499121299252, '여성'),\n",
       " (0.43590948843753075, '대박'),\n",
       " (0.4363019788151628, '탱탱'),\n",
       " (0.4573019456578914, '강추')]"
      ]
     },
     "execution_count": 22,
     "metadata": {},
     "output_type": "execute_result"
    }
   ],
   "source": [
    "# 회귀계수가 가장 큰 10단어\n",
    "sent_dict[-20:]  # 긍정"
   ]
  },
  {
   "cell_type": "code",
   "execution_count": 62,
   "metadata": {},
   "outputs": [],
   "source": [
    "pos = []\n",
    "neg = []\n",
    "for row in sent_dict:\n",
    "    if row[0] > 0:\n",
    "        pos.append(row)\n",
    "    elif row[0] < 0:\n",
    "        neg.append(row)"
   ]
  },
  {
   "cell_type": "code",
   "execution_count": 63,
   "metadata": {},
   "outputs": [
    {
     "data": {
      "text/plain": [
       "(543, 457)"
      ]
     },
     "execution_count": 63,
     "metadata": {},
     "output_type": "execute_result"
    }
   ],
   "source": [
    "len(pos), len(neg)"
   ]
  },
  {
   "cell_type": "code",
   "execution_count": 65,
   "metadata": {},
   "outputs": [
    {
     "data": {
      "text/plain": [
       "[(-1.0317885978555437, '최악'),\n",
       " (-0.6854860808192937, '별로'),\n",
       " (-0.5858980001185569, '그닥'),\n",
       " (-0.5031729752101852, '쓰레기'),\n",
       " (-0.4923973974638098, '커버'),\n",
       " (-0.4779322366104383, '대충'),\n",
       " (-0.47300831554732553, '차라리'),\n",
       " (-0.47003853952640084, '사지'),\n",
       " (-0.4682470200517283, '그냥'),\n",
       " (-0.4152030914107307, '다행')]"
      ]
     },
     "execution_count": 65,
     "metadata": {},
     "output_type": "execute_result"
    }
   ],
   "source": [
    "neg[:10]"
   ]
  },
  {
   "cell_type": "markdown",
   "metadata": {},
   "source": [
    "### 랜덤포레스트 분류기 이용"
   ]
  },
  {
   "cell_type": "code",
   "execution_count": 50,
   "metadata": {},
   "outputs": [
    {
     "data": {
      "text/plain": [
       "RandomForestClassifier(bootstrap=True, class_weight=None, criterion='gini',\n",
       "            max_depth=None, max_features='auto', max_leaf_nodes=None,\n",
       "            min_impurity_decrease=0.0, min_impurity_split=None,\n",
       "            min_samples_leaf=1, min_samples_split=2,\n",
       "            min_weight_fraction_leaf=0.0, n_estimators=10, n_jobs=1,\n",
       "            oob_score=False, random_state=None, verbose=0,\n",
       "            warm_start=False)"
      ]
     },
     "execution_count": 50,
     "metadata": {},
     "output_type": "execute_result"
    }
   ],
   "source": [
    "from sklearn.ensemble import RandomForestClassifier\n",
    "\n",
    "ranfor = RandomForestClassifier()\n",
    "ranfor.fit(X_train, y_train)"
   ]
  },
  {
   "cell_type": "code",
   "execution_count": 51,
   "metadata": {},
   "outputs": [],
   "source": [
    "y_pred = ranfor.predict(X_test)"
   ]
  },
  {
   "cell_type": "code",
   "execution_count": 53,
   "metadata": {},
   "outputs": [
    {
     "data": {
      "text/plain": [
       "0.6775029446407538"
      ]
     },
     "execution_count": 53,
     "metadata": {},
     "output_type": "execute_result"
    }
   ],
   "source": [
    "# 정확도\n",
    "accuracy_score(y_test, y_pred)"
   ]
  },
  {
   "cell_type": "code",
   "execution_count": 54,
   "metadata": {},
   "outputs": [
    {
     "name": "stdout",
     "output_type": "stream",
     "text": [
      "             precision    recall  f1-score   support\n",
      "\n",
      "      False       0.67      0.70      0.68      2111\n",
      "       True       0.69      0.66      0.67      2134\n",
      "\n",
      "avg / total       0.68      0.68      0.68      4245\n",
      "\n"
     ]
    }
   ],
   "source": [
    "print(classification_report(y_test, y_pred))"
   ]
  },
  {
   "cell_type": "code",
   "execution_count": 56,
   "metadata": {},
   "outputs": [],
   "source": [
    "importances = ranfor.feature_importances_"
   ]
  },
  {
   "cell_type": "code",
   "execution_count": 60,
   "metadata": {},
   "outputs": [
    {
     "data": {
      "text/plain": [
       "<Figure size 640x480 with 1 Axes>"
      ]
     },
     "metadata": {},
     "output_type": "display_data"
    }
   ],
   "source": [
    "import matplotlib.pyplot as plt\n",
    "\n",
    "\n",
    "std = np.std([tree.feature_importances_ for tree in ranfor.estimators_], axis=0)\n",
    "indices = np.argsort(importances)[::-1]\n",
    "\n",
    "plt.title(\"Feature importances\")\n",
    "plt.bar(range(X_train.shape[1]), importances[indices], color=\"r\", yerr=std[indices], align=\"center\")\n",
    "plt.xticks(range(X_train.shape[1]), indices)\n",
    "plt.xlim([-1, X_train.shape[1]])\n",
    "plt.show()"
   ]
  }
 ],
 "metadata": {
  "kernelspec": {
   "display_name": "Python 3",
   "language": "python",
   "name": "python3"
  },
  "language_info": {
   "codemirror_mode": {
    "name": "ipython",
    "version": 3
   },
   "file_extension": ".py",
   "mimetype": "text/x-python",
   "name": "python",
   "nbconvert_exporter": "python",
   "pygments_lexer": "ipython3",
   "version": "3.6.5"
  }
 },
 "nbformat": 4,
 "nbformat_minor": 2
}
